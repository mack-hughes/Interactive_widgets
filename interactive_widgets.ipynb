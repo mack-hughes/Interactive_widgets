{
 "cells": [
  {
   "attachments": {},
   "cell_type": "markdown",
   "metadata": {},
   "source": [
    "$$Observables$$"
   ]
  },
  {
   "cell_type": "code",
   "execution_count": 12,
   "metadata": {},
   "outputs": [],
   "source": [
    "using GLMakie "
   ]
  },
  {
   "attachments": {},
   "cell_type": "markdown",
   "metadata": {},
   "source": [
    "Variables are in general really just memory locations that contain some value.\n",
    "If we want to interact with data, we need to come if some type of reactive environment, so that when you make a change to an independent variable, all of the dependent will change at the same time. This is not how computers are designed to work, so we'll need to come up with some clever workaround."
   ]
  },
  {
   "cell_type": "code",
   "execution_count": 13,
   "metadata": {},
   "outputs": [
    {
     "data": {
      "text/plain": [
       "2"
      ]
     },
     "metadata": {},
     "output_type": "display_data"
    }
   ],
   "source": [
    "x = 1 \n",
    "y = 2"
   ]
  },
  {
   "cell_type": "code",
   "execution_count": 14,
   "metadata": {},
   "outputs": [
    {
     "data": {
      "text/plain": [
       "3"
      ]
     },
     "metadata": {},
     "output_type": "display_data"
    }
   ],
   "source": [
    "z = x + y"
   ]
  },
  {
   "cell_type": "code",
   "execution_count": 15,
   "metadata": {},
   "outputs": [
    {
     "data": {
      "text/plain": [
       "Observable{Float64} with 0 listeners. Value:\n",
       "2.0"
      ]
     },
     "metadata": {},
     "output_type": "display_data"
    }
   ],
   "source": [
    "x = Node(1.0)\n",
    "y = Node(2.0)"
   ]
  },
  {
   "cell_type": "code",
   "execution_count": 16,
   "metadata": {},
   "outputs": [
    {
     "data": {
      "text/plain": [
       "Observable{Float64} with 0 listeners. Value:\n",
       "3.0"
      ]
     },
     "metadata": {},
     "output_type": "display_data"
    }
   ],
   "source": [
    "z = @lift($x .+ $y)"
   ]
  },
  {
   "cell_type": "code",
   "execution_count": 17,
   "metadata": {},
   "outputs": [
    {
     "data": {
      "text/plain": [
       "10"
      ]
     },
     "metadata": {},
     "output_type": "display_data"
    }
   ],
   "source": [
    "x[] = 10"
   ]
  },
  {
   "cell_type": "code",
   "execution_count": 18,
   "metadata": {},
   "outputs": [
    {
     "data": {
      "text/plain": [
       "Observable{Float64} with 0 listeners. Value:\n",
       "12.0"
      ]
     },
     "metadata": {},
     "output_type": "display_data"
    }
   ],
   "source": [
    "z "
   ]
  },
  {
   "cell_type": "code",
   "execution_count": 19,
   "metadata": {},
   "outputs": [
    {
     "data": {
      "text/plain": [
       "20"
      ]
     },
     "metadata": {},
     "output_type": "display_data"
    }
   ],
   "source": [
    "y[] = 20"
   ]
  },
  {
   "cell_type": "code",
   "execution_count": 20,
   "metadata": {},
   "outputs": [
    {
     "data": {
      "text/plain": [
       "Observable{Float64} with 0 listeners. Value:\n",
       "30.0"
      ]
     },
     "metadata": {},
     "output_type": "display_data"
    }
   ],
   "source": [
    "z "
   ]
  },
  {
   "attachments": {},
   "cell_type": "markdown",
   "metadata": {},
   "source": [
    "This is what **Makie** does, it provides widgets called Sliders, Buttorns and Menus, which are basically observables that contain values. Moving a slider, or clicking on a button, or selecting a menu-item, will change those values. We can set up dependent observables to listen for those changes, so that our dependent observables can update automatically as the user interacts with those widgets."
   ]
  },
  {
   "attachments": {},
   "cell_type": "markdown",
   "metadata": {},
   "source": [
    "$$Sliders$$"
   ]
  },
  {
   "cell_type": "code",
   "execution_count": 21,
   "metadata": {},
   "outputs": [
    {
     "ename": "UndefVarError",
     "evalue": "UndefVarError: glfwWindowHint not defined",
     "output_type": "error",
     "traceback": [
      "UndefVarError: glfwWindowHint not defined\n",
      "\n",
      "Stacktrace:\n",
      " [1] top-level scope\n",
      "   @ ~/Code/Julia/Interactive_widgets/interactive_widgets.ipynb:1"
     ]
    }
   ],
   "source": [
    "glfwWindowHint(GLFW_CONTEXT_VERSION_MAJOR, 3)"
   ]
  },
  {
   "cell_type": "code",
   "execution_count": 22,
   "metadata": {},
   "outputs": [
    {
     "ename": "GLFW.GLFWError",
     "evalue": "GLFWError (VERSION_UNAVAILABLE): GLX: Failed to create context: GLXBadFBConfig",
     "output_type": "error",
     "traceback": [
      "GLFWError (VERSION_UNAVAILABLE): GLX: Failed to create context: GLXBadFBConfig\n",
      "\n",
      "Stacktrace:\n",
      "  [1] _ErrorCallbackWrapper(code::Int32, description::Cstring)\n",
      "    @ GLFW ~/.julia/packages/GLFW/BWxfF/src/callback.jl:43\n",
      "  [2] CreateWindow(width::Int64, height::Int64, title::String, monitor::GLFW.Monitor, share::GLFW.Window)\n",
      "    @ GLFW ~/.julia/packages/GLFW/BWxfF/src/glfw3.jl:499\n",
      "  [3] GLFW.Window(; name::String, resolution::Tuple{Int64, Int64}, debugging::Bool, major::Int64, minor::Int64, windowhints::Vector{Tuple{UInt32, Integer}}, contexthints::Vector{Tuple{UInt32, Integer}}, visible::Bool, focus::Bool, fullscreen::Bool, monitor::Nothing, share::GLFW.Window)\n",
      "    @ GLFW ~/.julia/packages/GLFW/BWxfF/src/glfw3.jl:344\n",
      "  [4] GLMakie.Screen(; resolution::Tuple{Int64, Int64}, visible::Bool, title::String, kw_args::Base.Pairs{Symbol, Union{}, Tuple{}, NamedTuple{(), Tuple{}}})\n",
      "    @ GLMakie ~/.julia/packages/GLMakie/rXGL8/src/screen.jl:328\n",
      "  [5] Screen\n",
      "    @ ~/.julia/packages/GLMakie/rXGL8/src/screen.jl:297 [inlined]\n",
      "  [6] global_gl_screen\n",
      "    @ ~/.julia/packages/GLMakie/rXGL8/src/screen.jl:247 [inlined]\n",
      "  [7] global_gl_screen(resolution::Tuple{Int64, Int64}, visibility::Bool, tries::Int64)\n",
      "    @ GLMakie ~/.julia/packages/GLMakie/rXGL8/src/screen.jl:394\n",
      "  [8] global_gl_screen\n",
      "    @ ~/.julia/packages/GLMakie/rXGL8/src/screen.jl:393 [inlined]\n",
      "  [9] backend_display\n",
      "    @ ~/.julia/packages/GLMakie/rXGL8/src/display.jl:2 [inlined]\n",
      " [10] display(scene::Scene; update::Bool)\n",
      "    @ Makie ~/.julia/packages/Makie/xbI6d/src/display.jl:60\n",
      " [11] display\n",
      "    @ ~/.julia/packages/Makie/xbI6d/src/display.jl:54 [inlined]\n",
      " [12] #display#905\n",
      "    @ ~/.julia/packages/Makie/xbI6d/src/display.jl:52 [inlined]\n",
      " [13] display(fig::Figure)\n",
      "    @ Makie ~/.julia/packages/Makie/xbI6d/src/display.jl:52\n",
      " [14] #invokelatest#2\n",
      "    @ ./essentials.jl:729 [inlined]\n",
      " [15] invokelatest\n",
      "    @ ./essentials.jl:726 [inlined]\n",
      " [16] (::VSCodeServer.var\"#198#199\"{VSCodeServer.NotebookRunCellArguments, String})()\n",
      "    @ VSCodeServer ~/.vscode-server/extensions/julialang.language-julia-1.38.2/scripts/packages/VSCodeServer/src/serve_notebook.jl:48\n",
      " [17] withpath(f::VSCodeServer.var\"#198#199\"{VSCodeServer.NotebookRunCellArguments, String}, path::String)\n",
      "    @ VSCodeServer ~/.vscode-server/extensions/julialang.language-julia-1.38.2/scripts/packages/VSCodeServer/src/repl.jl:249\n",
      " [18] notebook_runcell_request(conn::VSCodeServer.JSONRPC.JSONRPCEndpoint{Base.PipeEndpoint, Base.PipeEndpoint}, params::VSCodeServer.NotebookRunCellArguments)\n",
      "    @ VSCodeServer ~/.vscode-server/extensions/julialang.language-julia-1.38.2/scripts/packages/VSCodeServer/src/serve_notebook.jl:13\n",
      " [19] dispatch_msg(x::VSCodeServer.JSONRPC.JSONRPCEndpoint{Base.PipeEndpoint, Base.PipeEndpoint}, dispatcher::VSCodeServer.JSONRPC.MsgDispatcher, msg::Dict{String, Any})\n",
      "    @ VSCodeServer.JSONRPC ~/.vscode-server/extensions/julialang.language-julia-1.38.2/scripts/packages/JSONRPC/src/typed.jl:67\n",
      " [20] serve_notebook(pipename::String, outputchannel_logger::Base.CoreLogging.SimpleLogger; crashreporting_pipename::String)\n",
      "    @ VSCodeServer ~/.vscode-server/extensions/julialang.language-julia-1.38.2/scripts/packages/VSCodeServer/src/serve_notebook.jl:139\n",
      " [21] top-level scope\n",
      "    @ ~/.vscode-server/extensions/julialang.language-julia-1.38.2/scripts/notebook/notebook.jl:32"
     ]
    }
   ],
   "source": [
    "fig = Figure(resolution = (3840, 2160))"
   ]
  },
  {
   "cell_type": "code",
   "execution_count": 23,
   "metadata": {},
   "outputs": [
    {
     "data": {
      "text/plain": [
       "LineSegments{Tuple{Base.ReinterpretArray{Point{2, Float32}, 1, Tuple{Point{2, Float32}, Point{2, Float32}}, Vector{Tuple{Point{2, Float32}, Point{2, Float32}}}, false}}}"
      ]
     },
     "metadata": {},
     "output_type": "display_data"
    }
   ],
   "source": [
    "ax1 = fig[1, 1] = Axis(fig,\n",
    "    # borders\n",
    "    aspect = 1, targetlimits = BBox(-10, 10, -10, 10),\n",
    "    # title\n",
    "    title = \"Sliders Tutorial\",\n",
    "    titlegap = 48, titlesize = 60,\n",
    "    # x-axis\n",
    "    xautolimitmargin = (0, 0), xgridwidth = 2, xticklabelsize = 36,\n",
    "    xticks = LinearTicks(20), xticksize = 18,\n",
    "    # y-axis\n",
    "    yautolimitmargin = (0, 0), ygridwidth = 2, yticklabelpad = 14,\n",
    "    yticklabelsize = 36, yticks = LinearTicks(20), yticksize = 18\n",
    ")\n",
    "\n",
    "vlines!(ax1, [0], linewidth = 2)\n",
    "hlines!(ax1, [0], linewidth = 2)"
   ]
  },
  {
   "cell_type": "code",
   "execution_count": 47,
   "metadata": {},
   "outputs": [
    {
     "data": {
      "text/plain": [
       "(sliders = Slider[Slider(), Slider()], labels = Label[Label(), Label()], valuelabels = Label[Label(), Label()], layout = GridLayout[2, 3] (6 children))"
      ]
     },
     "metadata": {},
     "output_type": "display_data"
    }
   ],
   "source": [
    "lsgrid = labelslidergrid!(fig,\n",
    "    [\"slope\", \"y-intercept\"],\n",
    "    Ref(LinRange(-10:0.01:10));\n",
    "    formats = [x -> \"$(round(x, digits = 2))\"],\n",
    "    labelkw = Dict([(:textsize, 30)]),\n",
    "    sliderkw = Dict([(:linewidth, 24)]),\n",
    "    valuekw = Dict([(:textsize, 30)])\n",
    ")"
   ]
  },
  {
   "cell_type": "code",
   "execution_count": 48,
   "metadata": {},
   "outputs": [
    {
     "data": {
      "text/plain": [
       "GridLayout[2, 3] with 6 children\n",
       " ┣━ [1, 1] Label\n",
       " ┣━ [1, 2] Slider\n",
       " ┣━ [1, 3] Label\n",
       " ┣━ [2, 1] Label\n",
       " ┣━ [2, 2] Slider\n",
       " ┗━ [2, 3] Label\n"
      ]
     },
     "metadata": {},
     "output_type": "display_data"
    }
   ],
   "source": [
    "set_close_to!(lsgrid.sliders[1], 1.0)\n",
    "\n",
    "sl_sublayout = GridLayout(height = 150)\n",
    "fig[2, 1] = sl_sublayout\n",
    "fig[2, 1] = lsgrid.layout\n"
   ]
  },
  {
   "cell_type": "code",
   "execution_count": 49,
   "metadata": {},
   "outputs": [
    {
     "data": {
      "text/plain": [
       "Lines{Tuple{Vector{Point{2, Float32}}}}"
      ]
     },
     "metadata": {},
     "output_type": "display_data"
    }
   ],
   "source": [
    "slope = lsgrid.sliders[1].value\n",
    "\n",
    "intercept = lsgrid.sliders[2].value\n",
    "\n",
    "x = -10:0.01:10\n",
    "\n",
    "y = @lift($slope .* x .+ $intercept)\n",
    "\n",
    "# add line plot\n",
    "\n",
    "line1 = lines!(ax1, x, y, color = :blue, linewidth = 5)\n"
   ]
  },
  {
   "cell_type": "code",
   "execution_count": 50,
   "metadata": {},
   "outputs": [],
   "source": [
    "xlims!(ax1, -10, 10)\n",
    "ylims!(ax1, -10, 10)\n",
    "\n",
    "# add scatter plot\n",
    "\n",
    "rx = -10:0.5:10\n",
    "ry = rand(length(rx)) .+ -rx * 0.5 .+ 3\n",
    "scatter1 = scatter!(ax1, rx, ry, color = :red, markersize = 15)\n",
    "\n",
    "# reset axes limits, if necessary\n",
    "\n",
    "xlims!(ax1, -10, 10)\n",
    "ylims!(ax1, -10, 10)"
   ]
  },
  {
   "cell_type": "code",
   "execution_count": null,
   "metadata": {},
   "outputs": [],
   "source": []
  }
 ],
 "metadata": {
  "kernelspec": {
   "display_name": "Julia 1.8.3",
   "language": "julia",
   "name": "julia-1.8"
  },
  "language_info": {
   "file_extension": ".jl",
   "mimetype": "application/julia",
   "name": "julia",
   "version": "1.8.3"
  },
  "orig_nbformat": 4
 },
 "nbformat": 4,
 "nbformat_minor": 2
}
